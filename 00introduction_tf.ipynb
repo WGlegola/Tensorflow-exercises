{
  "nbformat": 4,
  "nbformat_minor": 0,
  "metadata": {
    "colab": {
      "provenance": [],
      "gpuType": "T4",
      "authorship_tag": "ABX9TyPdIm+p8znL+leC/xRhqYrz",
      "include_colab_link": true
    },
    "kernelspec": {
      "name": "python3",
      "display_name": "Python 3"
    },
    "language_info": {
      "name": "python"
    },
    "accelerator": "GPU"
  },
  "cells": [
    {
      "cell_type": "markdown",
      "metadata": {
        "id": "view-in-github",
        "colab_type": "text"
      },
      "source": [
        "<a href=\"https://colab.research.google.com/github/WGlegola/Tensorflow-exercises/blob/main/00introduction_tf.ipynb\" target=\"_parent\"><img src=\"https://colab.research.google.com/assets/colab-badge.svg\" alt=\"Open In Colab\"/></a>"
      ]
    },
    {
      "cell_type": "code",
      "execution_count": null,
      "metadata": {
        "colab": {
          "base_uri": "https://localhost:8080/"
        },
        "id": "xKj9xY0jivWx",
        "outputId": "fc476c90-8fcc-4640-96f8-8c842db799b1"
      },
      "outputs": [
        {
          "output_type": "stream",
          "name": "stdout",
          "text": [
            "2.12.0\n"
          ]
        }
      ],
      "source": [
        "import tensorflow as tf\n",
        "import numpy as np\n",
        "\n",
        "print(tf.__version__)"
      ]
    },
    {
      "cell_type": "code",
      "source": [
        "tensor = tf.constant([[1,2],[3,4]])\n",
        "tensor+10"
      ],
      "metadata": {
        "colab": {
          "base_uri": "https://localhost:8080/"
        },
        "id": "cHCgQO9WjYlw",
        "outputId": "47e95e1c-4487-40e4-c88d-e6e265d5f760"
      },
      "execution_count": null,
      "outputs": [
        {
          "output_type": "execute_result",
          "data": {
            "text/plain": [
              "<tf.Tensor: shape=(2, 2), dtype=int32, numpy=\n",
              "array([[11, 12],\n",
              "       [13, 14]], dtype=int32)>"
            ]
          },
          "metadata": {},
          "execution_count": 94
        }
      ]
    },
    {
      "cell_type": "code",
      "source": [
        "tensor += 10"
      ],
      "metadata": {
        "id": "U73VfgP-rB09"
      },
      "execution_count": null,
      "outputs": []
    },
    {
      "cell_type": "code",
      "source": [
        "tf.multiply(tensor,10)"
      ],
      "metadata": {
        "colab": {
          "base_uri": "https://localhost:8080/"
        },
        "id": "4pNUwlp0rG1k",
        "outputId": "c798c8e3-9aa2-415e-8917-8752ba4a974f"
      },
      "execution_count": null,
      "outputs": [
        {
          "output_type": "execute_result",
          "data": {
            "text/plain": [
              "<tf.Tensor: shape=(2, 2), dtype=int32, numpy=\n",
              "array([[110, 120],\n",
              "       [130, 140]], dtype=int32)>"
            ]
          },
          "metadata": {},
          "execution_count": 96
        }
      ]
    },
    {
      "cell_type": "code",
      "source": [
        "A = tf.constant([[1,2,3],[4,5,6],[7,8,9]])\n",
        "B = tf.constant([[1,1],[1,1],[1,1]])\n",
        "A,B"
      ],
      "metadata": {
        "colab": {
          "base_uri": "https://localhost:8080/"
        },
        "id": "HmqMhvN4rtg9",
        "outputId": "89093ea0-413a-4419-a9a2-40b5f5b10122"
      },
      "execution_count": null,
      "outputs": [
        {
          "output_type": "execute_result",
          "data": {
            "text/plain": [
              "(<tf.Tensor: shape=(3, 3), dtype=int32, numpy=\n",
              " array([[1, 2, 3],\n",
              "        [4, 5, 6],\n",
              "        [7, 8, 9]], dtype=int32)>,\n",
              " <tf.Tensor: shape=(3, 2), dtype=int32, numpy=\n",
              " array([[1, 1],\n",
              "        [1, 1],\n",
              "        [1, 1]], dtype=int32)>)"
            ]
          },
          "metadata": {},
          "execution_count": 97
        }
      ]
    },
    {
      "cell_type": "code",
      "source": [
        "tf.matmul(A,B)"
      ],
      "metadata": {
        "colab": {
          "base_uri": "https://localhost:8080/"
        },
        "id": "sAlNKszUszbh",
        "outputId": "216fa68a-0f08-4303-9bf9-5683396e55f9"
      },
      "execution_count": null,
      "outputs": [
        {
          "output_type": "execute_result",
          "data": {
            "text/plain": [
              "<tf.Tensor: shape=(3, 2), dtype=int32, numpy=\n",
              "array([[ 6,  6],\n",
              "       [15, 15],\n",
              "       [24, 24]], dtype=int32)>"
            ]
          },
          "metadata": {},
          "execution_count": 98
        }
      ]
    },
    {
      "cell_type": "code",
      "source": [
        "A @ B"
      ],
      "metadata": {
        "colab": {
          "base_uri": "https://localhost:8080/"
        },
        "id": "MJmcYsJ8t1ua",
        "outputId": "431b1cd5-a644-4c7d-e91b-b498d86a7e67"
      },
      "execution_count": null,
      "outputs": [
        {
          "output_type": "execute_result",
          "data": {
            "text/plain": [
              "<tf.Tensor: shape=(3, 2), dtype=int32, numpy=\n",
              "array([[ 6,  6],\n",
              "       [15, 15],\n",
              "       [24, 24]], dtype=int32)>"
            ]
          },
          "metadata": {},
          "execution_count": 99
        }
      ]
    },
    {
      "cell_type": "code",
      "source": [
        "tf.transpose(A)"
      ],
      "metadata": {
        "colab": {
          "base_uri": "https://localhost:8080/"
        },
        "id": "hCVuafzhzU59",
        "outputId": "1430f981-9776-4d55-a671-a229a038cc17"
      },
      "execution_count": null,
      "outputs": [
        {
          "output_type": "execute_result",
          "data": {
            "text/plain": [
              "<tf.Tensor: shape=(3, 3), dtype=int32, numpy=\n",
              "array([[1, 4, 7],\n",
              "       [2, 5, 8],\n",
              "       [3, 6, 9]], dtype=int32)>"
            ]
          },
          "metadata": {},
          "execution_count": 100
        }
      ]
    },
    {
      "cell_type": "code",
      "source": [
        "tf.matmul(tf.transpose(A),B)"
      ],
      "metadata": {
        "colab": {
          "base_uri": "https://localhost:8080/"
        },
        "id": "GGl18OE9y_sd",
        "outputId": "87747874-8c2a-48f9-a146-e200315db6bd"
      },
      "execution_count": null,
      "outputs": [
        {
          "output_type": "execute_result",
          "data": {
            "text/plain": [
              "<tf.Tensor: shape=(3, 2), dtype=int32, numpy=\n",
              "array([[12, 12],\n",
              "       [15, 15],\n",
              "       [18, 18]], dtype=int32)>"
            ]
          },
          "metadata": {},
          "execution_count": 101
        }
      ]
    },
    {
      "cell_type": "code",
      "source": [
        "tf.tensordot(A,B, axes=1)"
      ],
      "metadata": {
        "colab": {
          "base_uri": "https://localhost:8080/"
        },
        "id": "R507Zd-50Iqt",
        "outputId": "503b37b5-1731-4b53-f009-bcdba74f8910"
      },
      "execution_count": null,
      "outputs": [
        {
          "output_type": "execute_result",
          "data": {
            "text/plain": [
              "<tf.Tensor: shape=(3, 2), dtype=int32, numpy=\n",
              "array([[ 6,  6],\n",
              "       [15, 15],\n",
              "       [24, 24]], dtype=int32)>"
            ]
          },
          "metadata": {},
          "execution_count": 102
        }
      ]
    },
    {
      "cell_type": "code",
      "source": [
        "#change from float32 to float16\n",
        "A = tf.constant([1.2,2.3])\n",
        "\n",
        "B = tf.cast(A, dtype=tf.float16)\n",
        "A.dtype,B.dtype\n"
      ],
      "metadata": {
        "colab": {
          "base_uri": "https://localhost:8080/"
        },
        "id": "otQnSQ6818da",
        "outputId": "786e94bd-f696-4561-9546-fe61253082a2"
      },
      "execution_count": null,
      "outputs": [
        {
          "output_type": "execute_result",
          "data": {
            "text/plain": [
              "(tf.float32, tf.float16)"
            ]
          },
          "metadata": {},
          "execution_count": 103
        }
      ]
    },
    {
      "cell_type": "code",
      "source": [
        "D=tf.constant([-7,-10])\n",
        "D"
      ],
      "metadata": {
        "id": "DVFpVYW02ocw",
        "colab": {
          "base_uri": "https://localhost:8080/"
        },
        "outputId": "2d910706-d082-407c-dcd4-4affd81a8f15"
      },
      "execution_count": null,
      "outputs": [
        {
          "output_type": "execute_result",
          "data": {
            "text/plain": [
              "<tf.Tensor: shape=(2,), dtype=int32, numpy=array([ -7, -10], dtype=int32)>"
            ]
          },
          "metadata": {},
          "execution_count": 104
        }
      ]
    },
    {
      "cell_type": "code",
      "source": [
        "tf.abs(D)"
      ],
      "metadata": {
        "colab": {
          "base_uri": "https://localhost:8080/"
        },
        "id": "ixL6UbDok9FT",
        "outputId": "8dd3fd68-0357-43ac-ab1d-db0489da1dfa"
      },
      "execution_count": null,
      "outputs": [
        {
          "output_type": "execute_result",
          "data": {
            "text/plain": [
              "<tf.Tensor: shape=(2,), dtype=int32, numpy=array([ 7, 10], dtype=int32)>"
            ]
          },
          "metadata": {},
          "execution_count": 105
        }
      ]
    },
    {
      "cell_type": "code",
      "source": [
        "D=tf.constant(np.random.randint(0,100,size=50))\n",
        "D"
      ],
      "metadata": {
        "colab": {
          "base_uri": "https://localhost:8080/"
        },
        "id": "BW9pknOJlbOg",
        "outputId": "b8f1f2ea-56b4-440c-c1fb-d86da1884ed8"
      },
      "execution_count": null,
      "outputs": [
        {
          "output_type": "execute_result",
          "data": {
            "text/plain": [
              "<tf.Tensor: shape=(50,), dtype=int64, numpy=\n",
              "array([25, 91, 29,  5, 93, 23, 74, 66, 68, 12, 74, 98, 57, 32, 62, 50, 58,\n",
              "       26, 79, 94, 30, 50, 47, 59, 55, 97, 69, 23, 44, 30, 39, 56, 66,  8,\n",
              "       51, 62, 97, 99, 18, 25, 15, 82, 95, 22, 39,  7,  0, 17, 77, 12])>"
            ]
          },
          "metadata": {},
          "execution_count": 106
        }
      ]
    },
    {
      "cell_type": "code",
      "source": [
        "tf.reduce_min(D),tf.reduce_max(D),tf.reduce_mean(D),tf.reduce_sum(D)"
      ],
      "metadata": {
        "colab": {
          "base_uri": "https://localhost:8080/"
        },
        "id": "JVviLEvGlE_u",
        "outputId": "ef49e32f-ed40-4116-b893-abeb5fb535fd"
      },
      "execution_count": null,
      "outputs": [
        {
          "output_type": "execute_result",
          "data": {
            "text/plain": [
              "(<tf.Tensor: shape=(), dtype=int64, numpy=0>,\n",
              " <tf.Tensor: shape=(), dtype=int64, numpy=99>,\n",
              " <tf.Tensor: shape=(), dtype=int64, numpy=50>,\n",
              " <tf.Tensor: shape=(), dtype=int64, numpy=2507>)"
            ]
          },
          "metadata": {},
          "execution_count": 107
        }
      ]
    },
    {
      "cell_type": "code",
      "source": [
        "tf.math.reduce_variance(tf.cast(D,dtype=tf.float32)),tf.math.reduce_std(tf.cast(D,dtype=tf.float32))"
      ],
      "metadata": {
        "colab": {
          "base_uri": "https://localhost:8080/"
        },
        "id": "TzkH-hRBl7LM",
        "outputId": "f2572de8-f278-4134-bcef-c4c82fc78c2c"
      },
      "execution_count": null,
      "outputs": [
        {
          "output_type": "execute_result",
          "data": {
            "text/plain": [
              "(<tf.Tensor: shape=(), dtype=float32, numpy=847.6803>,\n",
              " <tf.Tensor: shape=(), dtype=float32, numpy=29.11495>)"
            ]
          },
          "metadata": {},
          "execution_count": 108
        }
      ]
    },
    {
      "cell_type": "code",
      "source": [
        "tf.math.argmax(D),D[39],D[tf.math.argmin(D)]"
      ],
      "metadata": {
        "colab": {
          "base_uri": "https://localhost:8080/"
        },
        "id": "3cAUGGtFnyAS",
        "outputId": "2a7aef4c-1fca-4af9-ef50-bd7398988758"
      },
      "execution_count": null,
      "outputs": [
        {
          "output_type": "execute_result",
          "data": {
            "text/plain": [
              "(<tf.Tensor: shape=(), dtype=int64, numpy=37>,\n",
              " <tf.Tensor: shape=(), dtype=int64, numpy=25>,\n",
              " <tf.Tensor: shape=(), dtype=int64, numpy=0>)"
            ]
          },
          "metadata": {},
          "execution_count": 109
        }
      ]
    },
    {
      "cell_type": "code",
      "source": [
        "E=tf.constant(tf.random.uniform(shape=[50]),shape=(1,1,1,1,50))\n",
        "E,E.shape"
      ],
      "metadata": {
        "colab": {
          "base_uri": "https://localhost:8080/"
        },
        "id": "GTo7fyU1pZJr",
        "outputId": "a40a26fd-a30d-4973-ac4c-378ca758cfbd"
      },
      "execution_count": null,
      "outputs": [
        {
          "output_type": "execute_result",
          "data": {
            "text/plain": [
              "(<tf.Tensor: shape=(1, 1, 1, 1, 50), dtype=float32, numpy=\n",
              " array([[[[[0.4234147 , 0.30390882, 0.37906325, 0.05142629, 0.45152044,\n",
              "            0.26526737, 0.49995708, 0.09937   , 0.19490111, 0.7925384 ,\n",
              "            0.4759394 , 0.10671246, 0.9974365 , 0.27932727, 0.62617624,\n",
              "            0.7194743 , 0.8452337 , 0.27601755, 0.55326223, 0.7471566 ,\n",
              "            0.59577715, 0.88027275, 0.5995501 , 0.2443006 , 0.02794528,\n",
              "            0.95444643, 0.72027934, 0.10868239, 0.5462761 , 0.9302006 ,\n",
              "            0.15758657, 0.378011  , 0.877215  , 0.5867367 , 0.5941081 ,\n",
              "            0.70217896, 0.9471177 , 0.82889473, 0.8805448 , 0.15096033,\n",
              "            0.27371204, 0.6705066 , 0.51236415, 0.79329145, 0.7043009 ,\n",
              "            0.03182173, 0.5598351 , 0.10472679, 0.7705344 , 0.32890093]]]]],\n",
              "       dtype=float32)>,\n",
              " TensorShape([1, 1, 1, 1, 50]))"
            ]
          },
          "metadata": {},
          "execution_count": 110
        }
      ]
    },
    {
      "cell_type": "code",
      "source": [
        "tf.squeeze(E).shape"
      ],
      "metadata": {
        "colab": {
          "base_uri": "https://localhost:8080/"
        },
        "id": "IoOShQAUpsPx",
        "outputId": "7bfb71fa-a956-4d95-95b6-f137eaa533b8"
      },
      "execution_count": null,
      "outputs": [
        {
          "output_type": "execute_result",
          "data": {
            "text/plain": [
              "TensorShape([50])"
            ]
          },
          "metadata": {},
          "execution_count": 111
        }
      ]
    },
    {
      "cell_type": "code",
      "source": [
        "F_list = [0,1,2]\n",
        "F=tf.one_hot(F_list,depth=3)\n",
        "F_list,F"
      ],
      "metadata": {
        "colab": {
          "base_uri": "https://localhost:8080/"
        },
        "id": "TqKH3K1Bp8Qk",
        "outputId": "5303e3f4-8606-4043-f229-870f1f0ccf38"
      },
      "execution_count": null,
      "outputs": [
        {
          "output_type": "execute_result",
          "data": {
            "text/plain": [
              "([0, 1, 2],\n",
              " <tf.Tensor: shape=(3, 3), dtype=float32, numpy=\n",
              " array([[1., 0., 0.],\n",
              "        [0., 1., 0.],\n",
              "        [0., 0., 1.]], dtype=float32)>)"
            ]
          },
          "metadata": {},
          "execution_count": 112
        }
      ]
    },
    {
      "cell_type": "code",
      "source": [
        "J = tf.constant(np.array([1.2,.4,4.5]))\n",
        "J,np.array(J),type(np.array(J))"
      ],
      "metadata": {
        "colab": {
          "base_uri": "https://localhost:8080/"
        },
        "id": "1cJOQS0nsAey",
        "outputId": "a2dc06c3-ebb0-4ccb-acc5-af754b5a4638"
      },
      "execution_count": null,
      "outputs": [
        {
          "output_type": "execute_result",
          "data": {
            "text/plain": [
              "(<tf.Tensor: shape=(3,), dtype=float64, numpy=array([1.2, 0.4, 4.5])>,\n",
              " array([1.2, 0.4, 4.5]),\n",
              " numpy.ndarray)"
            ]
          },
          "metadata": {},
          "execution_count": 113
        }
      ]
    },
    {
      "cell_type": "code",
      "source": [
        "J.numpy(),type(J.numpy())"
      ],
      "metadata": {
        "colab": {
          "base_uri": "https://localhost:8080/"
        },
        "id": "mrUUVKiTsJkf",
        "outputId": "299fe85c-7639-41b3-ebf6-c4be93a33bc1"
      },
      "execution_count": null,
      "outputs": [
        {
          "output_type": "execute_result",
          "data": {
            "text/plain": [
              "(array([1.2, 0.4, 4.5]), numpy.ndarray)"
            ]
          },
          "metadata": {},
          "execution_count": 114
        }
      ]
    },
    {
      "cell_type": "code",
      "source": [
        "tf.config.list_physical_devices()"
      ],
      "metadata": {
        "colab": {
          "base_uri": "https://localhost:8080/"
        },
        "id": "NcxVz2W4sqHJ",
        "outputId": "d82d401a-279f-4feb-8228-50c3354660a2"
      },
      "execution_count": null,
      "outputs": [
        {
          "output_type": "execute_result",
          "data": {
            "text/plain": [
              "[PhysicalDevice(name='/physical_device:CPU:0', device_type='CPU'),\n",
              " PhysicalDevice(name='/physical_device:GPU:0', device_type='GPU')]"
            ]
          },
          "metadata": {},
          "execution_count": 115
        }
      ]
    },
    {
      "cell_type": "code",
      "source": [
        "# Create a vector, scalar, matrix and tensor with values of your choosing using tf.constant().\n",
        "# Find the shape, rank and size of the tensors you created in 1.\n",
        "# Create two tensors containing random values between 0 and 1 with shape [5, 300].\n",
        "# Multiply the two tensors you created in 3 using matrix multiplication.\n",
        "# Multiply the two tensors you created in 3 using dot product.\n",
        "# Create a tensor with random values between 0 and 1 with shape [224, 224, 3].\n",
        "# Find the min and max values of the tensor you created in 6 along the first axis.\n",
        "# Created a tensor with random values of shape [1, 224, 224, 3] then squeeze it to change the shape to [224, 224, 3].\n",
        "# Create a tensor with shape [10] using your own choice of values, then find the index which has the maximum value.\n",
        "# One-hot encode the tensor you created in 9."
      ],
      "metadata": {
        "id": "92guhdd_tr1g"
      },
      "execution_count": null,
      "outputs": []
    },
    {
      "cell_type": "code",
      "source": [
        "# 1\n",
        "scalar = tf.constant([10])\n",
        "vector = tf.constant([1,2])\n",
        "matrix = tf.constant([[1,2],[3,5]])\n",
        "scalar,vector,matrix"
      ],
      "metadata": {
        "colab": {
          "base_uri": "https://localhost:8080/"
        },
        "id": "KAp3DeafvLyp",
        "outputId": "e8e18c5c-bf2e-40d4-af8a-1b4766287717"
      },
      "execution_count": null,
      "outputs": [
        {
          "output_type": "execute_result",
          "data": {
            "text/plain": [
              "(<tf.Tensor: shape=(1,), dtype=int32, numpy=array([10], dtype=int32)>,\n",
              " <tf.Tensor: shape=(2,), dtype=int32, numpy=array([1, 2], dtype=int32)>,\n",
              " <tf.Tensor: shape=(2, 2), dtype=int32, numpy=\n",
              " array([[1, 2],\n",
              "        [3, 5]], dtype=int32)>)"
            ]
          },
          "metadata": {},
          "execution_count": 117
        }
      ]
    },
    {
      "cell_type": "code",
      "source": [
        "# 2\n",
        "scalar.shape,scalar.ndim,tf.size(scalar).numpy()"
      ],
      "metadata": {
        "colab": {
          "base_uri": "https://localhost:8080/"
        },
        "id": "20YzIomFwYgU",
        "outputId": "bc97b175-185e-427d-9992-a1eee7ffb13b"
      },
      "execution_count": null,
      "outputs": [
        {
          "output_type": "execute_result",
          "data": {
            "text/plain": [
              "(TensorShape([1]), 1, 1)"
            ]
          },
          "metadata": {},
          "execution_count": 118
        }
      ]
    },
    {
      "cell_type": "code",
      "source": [
        "\n",
        "vector.shape,vector.ndim,tf.size(vector).numpy()\n"
      ],
      "metadata": {
        "colab": {
          "base_uri": "https://localhost:8080/"
        },
        "id": "5ddtuJ_qxqeD",
        "outputId": "b88ab965-bb57-4949-e7f3-a26a35fd7e80"
      },
      "execution_count": null,
      "outputs": [
        {
          "output_type": "execute_result",
          "data": {
            "text/plain": [
              "(TensorShape([2]), 1, 2)"
            ]
          },
          "metadata": {},
          "execution_count": 119
        }
      ]
    },
    {
      "cell_type": "code",
      "source": [
        "matrix.shape,matrix.ndim,tf.size(matrix).numpy()"
      ],
      "metadata": {
        "colab": {
          "base_uri": "https://localhost:8080/"
        },
        "id": "JDixjXFtxtGG",
        "outputId": "dc5b061f-101a-4c1f-aa0e-228b5504de71"
      },
      "execution_count": null,
      "outputs": [
        {
          "output_type": "execute_result",
          "data": {
            "text/plain": [
              "(TensorShape([2, 2]), 2, 4)"
            ]
          },
          "metadata": {},
          "execution_count": 120
        }
      ]
    },
    {
      "cell_type": "code",
      "source": [
        "# 3\n",
        "random1 = tf.random.uniform(shape=(5,300),maxval=1)\n",
        "random2 = tf.random.uniform(shape=(5,300),maxval=1)\n"
      ],
      "metadata": {
        "id": "IPPV0ttKxt1a"
      },
      "execution_count": null,
      "outputs": []
    },
    {
      "cell_type": "code",
      "source": [
        "random1,random2"
      ],
      "metadata": {
        "colab": {
          "base_uri": "https://localhost:8080/"
        },
        "id": "GGPTeedFyEAU",
        "outputId": "67ec2bd5-4ba2-4f32-b1d3-3105b3f4c626"
      },
      "execution_count": null,
      "outputs": [
        {
          "output_type": "execute_result",
          "data": {
            "text/plain": [
              "(<tf.Tensor: shape=(5, 300), dtype=float32, numpy=\n",
              " array([[0.9190773 , 0.57346547, 0.7760763 , ..., 0.7571049 , 0.6274246 ,\n",
              "         0.07287765],\n",
              "        [0.7661929 , 0.4817481 , 0.73215234, ..., 0.7578163 , 0.98815084,\n",
              "         0.78961027],\n",
              "        [0.79570925, 0.6577941 , 0.07583296, ..., 0.51806307, 0.54283   ,\n",
              "         0.6668751 ],\n",
              "        [0.26138914, 0.40039217, 0.19400525, ..., 0.45538294, 0.6334616 ,\n",
              "         0.6510711 ],\n",
              "        [0.85182214, 0.2483778 , 0.48579836, ..., 0.3950882 , 0.9351417 ,\n",
              "         0.44450343]], dtype=float32)>,\n",
              " <tf.Tensor: shape=(5, 300), dtype=float32, numpy=\n",
              " array([[0.34612453, 0.5260439 , 0.9482827 , ..., 0.8497437 , 0.88291943,\n",
              "         0.98135006],\n",
              "        [0.43876815, 0.501637  , 0.06877649, ..., 0.24785292, 0.19593537,\n",
              "         0.6389077 ],\n",
              "        [0.36978567, 0.57916796, 0.24071002, ..., 0.5134491 , 0.4406321 ,\n",
              "         0.32333803],\n",
              "        [0.53966165, 0.04638314, 0.14636278, ..., 0.23569596, 0.67106473,\n",
              "         0.94139576],\n",
              "        [0.44098246, 0.97571266, 0.23258305, ..., 0.2725166 , 0.00237799,\n",
              "         0.20578408]], dtype=float32)>)"
            ]
          },
          "metadata": {},
          "execution_count": 122
        }
      ]
    },
    {
      "cell_type": "code",
      "source": [
        "# 4\n",
        "random1 @ tf.transpose(random2), tf.matmul(random1, tf.transpose(random2))"
      ],
      "metadata": {
        "colab": {
          "base_uri": "https://localhost:8080/"
        },
        "id": "cB9CsYZ7zhMr",
        "outputId": "529bb25f-465d-423e-aee6-8db6c8f58cbc"
      },
      "execution_count": null,
      "outputs": [
        {
          "output_type": "execute_result",
          "data": {
            "text/plain": [
              "(<tf.Tensor: shape=(5, 5), dtype=float32, numpy=\n",
              " array([[72.709755, 72.293915, 77.4892  , 74.155235, 71.491585],\n",
              "        [74.863335, 75.79539 , 78.721054, 77.78386 , 72.1968  ],\n",
              "        [71.67435 , 72.30034 , 76.89926 , 74.25073 , 71.69897 ],\n",
              "        [68.94422 , 72.692116, 80.6844  , 75.87775 , 71.456985],\n",
              "        [70.79699 , 73.92621 , 76.621826, 75.97294 , 68.59809 ]],\n",
              "       dtype=float32)>,\n",
              " <tf.Tensor: shape=(5, 5), dtype=float32, numpy=\n",
              " array([[72.709755, 72.293915, 77.4892  , 74.155235, 71.491585],\n",
              "        [74.863335, 75.79539 , 78.721054, 77.78386 , 72.1968  ],\n",
              "        [71.67435 , 72.30034 , 76.89926 , 74.25073 , 71.69897 ],\n",
              "        [68.94422 , 72.692116, 80.6844  , 75.87775 , 71.456985],\n",
              "        [70.79699 , 73.92621 , 76.621826, 75.97294 , 68.59809 ]],\n",
              "       dtype=float32)>)"
            ]
          },
          "metadata": {},
          "execution_count": 123
        }
      ]
    },
    {
      "cell_type": "code",
      "source": [
        "# 5\n",
        "tf.tensordot(random1,tf.transpose(random2),axes=1)"
      ],
      "metadata": {
        "colab": {
          "base_uri": "https://localhost:8080/"
        },
        "id": "tUSzRD8Iz6Zf",
        "outputId": "9bf0d5ea-8bb7-4253-eaf2-f3b4d3e3ec9c"
      },
      "execution_count": null,
      "outputs": [
        {
          "output_type": "execute_result",
          "data": {
            "text/plain": [
              "<tf.Tensor: shape=(5, 5), dtype=float32, numpy=\n",
              "array([[72.709755, 72.293915, 77.4892  , 74.155235, 71.491585],\n",
              "       [74.863335, 75.79539 , 78.721054, 77.78386 , 72.1968  ],\n",
              "       [71.67435 , 72.30034 , 76.89926 , 74.25073 , 71.69897 ],\n",
              "       [68.94422 , 72.692116, 80.6844  , 75.87775 , 71.456985],\n",
              "       [70.79699 , 73.92621 , 76.621826, 75.97294 , 68.59809 ]],\n",
              "      dtype=float32)>"
            ]
          },
          "metadata": {},
          "execution_count": 124
        }
      ]
    },
    {
      "cell_type": "code",
      "source": [
        "# 6\n",
        "random3 = tf.random.uniform(shape=(224, 224, 3),maxval=1)\n",
        "random3"
      ],
      "metadata": {
        "colab": {
          "base_uri": "https://localhost:8080/"
        },
        "id": "YS-1clSS1TiK",
        "outputId": "fafea0f4-c185-4fd3-ed9a-e930a7b83346"
      },
      "execution_count": null,
      "outputs": [
        {
          "output_type": "execute_result",
          "data": {
            "text/plain": [
              "<tf.Tensor: shape=(224, 224, 3), dtype=float32, numpy=\n",
              "array([[[0.7854955 , 0.53266585, 0.09707367],\n",
              "        [0.7192024 , 0.26866043, 0.9823816 ],\n",
              "        [0.57906914, 0.3653401 , 0.23098755],\n",
              "        ...,\n",
              "        [0.84284484, 0.16776621, 0.4880247 ],\n",
              "        [0.1365838 , 0.60847783, 0.40027738],\n",
              "        [0.84089553, 0.01198876, 0.5473558 ]],\n",
              "\n",
              "       [[0.73215306, 0.5343356 , 0.01326001],\n",
              "        [0.06491148, 0.48500562, 0.8061565 ],\n",
              "        [0.7247349 , 0.5656456 , 0.36863756],\n",
              "        ...,\n",
              "        [0.18047845, 0.5394466 , 0.81872463],\n",
              "        [0.70995486, 0.28689945, 0.37363398],\n",
              "        [0.93290496, 0.8041836 , 0.8085263 ]],\n",
              "\n",
              "       [[0.18253624, 0.5981449 , 0.7478882 ],\n",
              "        [0.7616625 , 0.8713592 , 0.01147461],\n",
              "        [0.07262409, 0.37055492, 0.48126006],\n",
              "        ...,\n",
              "        [0.96187973, 0.07629323, 0.25603855],\n",
              "        [0.81251514, 0.04076791, 0.47107327],\n",
              "        [0.17191434, 0.47839403, 0.92790055]],\n",
              "\n",
              "       ...,\n",
              "\n",
              "       [[0.03102338, 0.7102891 , 0.20575666],\n",
              "        [0.3104458 , 0.6148112 , 0.45581913],\n",
              "        [0.41093314, 0.67644227, 0.55538964],\n",
              "        ...,\n",
              "        [0.72224724, 0.8259715 , 0.19171977],\n",
              "        [0.18157697, 0.95855284, 0.91033256],\n",
              "        [0.5192033 , 0.12369502, 0.49906504]],\n",
              "\n",
              "       [[0.89403677, 0.7052134 , 0.80198264],\n",
              "        [0.65390277, 0.0678035 , 0.6818299 ],\n",
              "        [0.55376565, 0.41453564, 0.43015552],\n",
              "        ...,\n",
              "        [0.36967492, 0.52655494, 0.39388907],\n",
              "        [0.5585475 , 0.544418  , 0.35017347],\n",
              "        [0.08163178, 0.79535997, 0.04203808]],\n",
              "\n",
              "       [[0.8811352 , 0.42042434, 0.1623981 ],\n",
              "        [0.01484239, 0.49579155, 0.22411847],\n",
              "        [0.35543644, 0.5820029 , 0.2964295 ],\n",
              "        ...,\n",
              "        [0.2738855 , 0.9448341 , 0.18178916],\n",
              "        [0.8229327 , 0.25932384, 0.8342397 ],\n",
              "        [0.97597885, 0.8720498 , 0.5152941 ]]], dtype=float32)>"
            ]
          },
          "metadata": {},
          "execution_count": 125
        }
      ]
    },
    {
      "cell_type": "code",
      "source": [
        "# 7\n",
        "tf.reduce_min(random3),tf.reduce_max(random3)"
      ],
      "metadata": {
        "colab": {
          "base_uri": "https://localhost:8080/"
        },
        "id": "kXp5I0cW1g1L",
        "outputId": "d487f724-6090-4a9b-d035-0936daf648a6"
      },
      "execution_count": null,
      "outputs": [
        {
          "output_type": "execute_result",
          "data": {
            "text/plain": [
              "(<tf.Tensor: shape=(), dtype=float32, numpy=3.0875206e-05>,\n",
              " <tf.Tensor: shape=(), dtype=float32, numpy=0.9999974>)"
            ]
          },
          "metadata": {},
          "execution_count": 126
        }
      ]
    },
    {
      "cell_type": "code",
      "source": [
        "# 8\n",
        "random4 = tf.random.uniform(shape=(1, 224, 224, 3),maxval=1)\n",
        "random4.shape, tf.squeeze(random4).shape,"
      ],
      "metadata": {
        "colab": {
          "base_uri": "https://localhost:8080/"
        },
        "id": "j9mE94D315_i",
        "outputId": "a43c992a-c6b3-4785-ff80-b07281c8e8c2"
      },
      "execution_count": null,
      "outputs": [
        {
          "output_type": "execute_result",
          "data": {
            "text/plain": [
              "(TensorShape([1, 224, 224, 3]), TensorShape([224, 224, 3]))"
            ]
          },
          "metadata": {},
          "execution_count": 127
        }
      ]
    },
    {
      "cell_type": "code",
      "source": [
        "# 9\n",
        "defined = tf.constant([1,2,3,4,5,6,7,8,9,10])\n",
        "tf.argmin(defined),tf.argmax(defined)"
      ],
      "metadata": {
        "colab": {
          "base_uri": "https://localhost:8080/"
        },
        "id": "yrSfhPmU2NhL",
        "outputId": "5b78bc63-7237-4732-cfd7-55fcd69a0f5f"
      },
      "execution_count": null,
      "outputs": [
        {
          "output_type": "execute_result",
          "data": {
            "text/plain": [
              "(<tf.Tensor: shape=(), dtype=int64, numpy=0>,\n",
              " <tf.Tensor: shape=(), dtype=int64, numpy=9>)"
            ]
          },
          "metadata": {},
          "execution_count": 128
        }
      ]
    },
    {
      "cell_type": "code",
      "source": [
        "# 10\n",
        "tf.size(defined),tf.one_hot(defined,depth=10),tf.one_hot([0,1,2,3,4,5,6,7,8,9,10],depth=11),"
      ],
      "metadata": {
        "colab": {
          "base_uri": "https://localhost:8080/"
        },
        "id": "5Ld8_34Z2e5K",
        "outputId": "35d2b4c7-980b-48b1-93a1-27401faea7e3"
      },
      "execution_count": null,
      "outputs": [
        {
          "output_type": "execute_result",
          "data": {
            "text/plain": [
              "(<tf.Tensor: shape=(), dtype=int32, numpy=10>,\n",
              " <tf.Tensor: shape=(10, 10), dtype=float32, numpy=\n",
              " array([[0., 1., 0., 0., 0., 0., 0., 0., 0., 0.],\n",
              "        [0., 0., 1., 0., 0., 0., 0., 0., 0., 0.],\n",
              "        [0., 0., 0., 1., 0., 0., 0., 0., 0., 0.],\n",
              "        [0., 0., 0., 0., 1., 0., 0., 0., 0., 0.],\n",
              "        [0., 0., 0., 0., 0., 1., 0., 0., 0., 0.],\n",
              "        [0., 0., 0., 0., 0., 0., 1., 0., 0., 0.],\n",
              "        [0., 0., 0., 0., 0., 0., 0., 1., 0., 0.],\n",
              "        [0., 0., 0., 0., 0., 0., 0., 0., 1., 0.],\n",
              "        [0., 0., 0., 0., 0., 0., 0., 0., 0., 1.],\n",
              "        [0., 0., 0., 0., 0., 0., 0., 0., 0., 0.]], dtype=float32)>,\n",
              " <tf.Tensor: shape=(11, 11), dtype=float32, numpy=\n",
              " array([[1., 0., 0., 0., 0., 0., 0., 0., 0., 0., 0.],\n",
              "        [0., 1., 0., 0., 0., 0., 0., 0., 0., 0., 0.],\n",
              "        [0., 0., 1., 0., 0., 0., 0., 0., 0., 0., 0.],\n",
              "        [0., 0., 0., 1., 0., 0., 0., 0., 0., 0., 0.],\n",
              "        [0., 0., 0., 0., 1., 0., 0., 0., 0., 0., 0.],\n",
              "        [0., 0., 0., 0., 0., 1., 0., 0., 0., 0., 0.],\n",
              "        [0., 0., 0., 0., 0., 0., 1., 0., 0., 0., 0.],\n",
              "        [0., 0., 0., 0., 0., 0., 0., 1., 0., 0., 0.],\n",
              "        [0., 0., 0., 0., 0., 0., 0., 0., 1., 0., 0.],\n",
              "        [0., 0., 0., 0., 0., 0., 0., 0., 0., 1., 0.],\n",
              "        [0., 0., 0., 0., 0., 0., 0., 0., 0., 0., 1.]], dtype=float32)>)"
            ]
          },
          "metadata": {},
          "execution_count": 129
        }
      ]
    },
    {
      "cell_type": "code",
      "source": [
        "#fin"
      ],
      "metadata": {
        "id": "7KT_7Vlv2fzB"
      },
      "execution_count": null,
      "outputs": []
    }
  ]
}